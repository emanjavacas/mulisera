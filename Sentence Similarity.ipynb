{
 "cells": [
  {
   "cell_type": "code",
   "execution_count": 10,
   "metadata": {},
   "outputs": [
    {
     "name": "stdout",
     "output_type": "stream",
     "text": [
      "Populating the interactive namespace from numpy and matplotlib\n"
     ]
    }
   ],
   "source": [
    "import numpy as np\n",
    "import pickle as pkl\n",
    "from vocab import Vocabulary\n",
    "import scipy\n",
    "from data2 import load_data\n",
    "%pylab inline\n"
   ]
  },
  {
   "cell_type": "code",
   "execution_count": 49,
   "metadata": {},
   "outputs": [
    {
     "name": "stdout",
     "output_type": "stream",
     "text": [
      "Loading m30ken, split train\n",
      "N images 145000, N captions 145000\n",
      "Loading coco, split train\n",
      "N images 566435, N captions 566435\n"
     ]
    }
   ],
   "source": [
    "m30k_img, m30k_caps = load_data('m30ken', 'train', False)\n",
    "coco_img, coco_caps = load_data('coco', 'train', False)"
   ]
  },
  {
   "cell_type": "code",
   "execution_count": 50,
   "metadata": {},
   "outputs": [],
   "source": [
    "del m30k_img\n",
    "del coco_img"
   ]
  },
  {
   "cell_type": "code",
   "execution_count": 53,
   "metadata": {},
   "outputs": [],
   "source": [
    "coco_emb = np.load('/roaming/u1257964/vsepp_distant/deenm30k+coco_409/409/coco_cap_emb.npy')"
   ]
  },
  {
   "cell_type": "code",
   "execution_count": 54,
   "metadata": {},
   "outputs": [],
   "source": [
    "m30k_emb = np.load('/roaming/u1257964/vsepp_distant/deenm30k+coco_409/409/m30ken_cap_emb.npy')"
   ]
  },
  {
   "cell_type": "code",
   "execution_count": 65,
   "metadata": {},
   "outputs": [
    {
     "name": "stdout",
     "output_type": "stream",
     "text": [
      "M30K sentence: two young guys with shaggy hair look at their hands while hanging out in the yard .\n",
      "COCO sentence: A couple of people standing in a yard.\n",
      "Similarity: 0.5782266100033185\n",
      "M30K sentence: two young , white males are outside near many bushes .\n",
      "COCO sentence: a man in a white suit standing in front of some bushes \n",
      "Similarity: 0.6329361688585071\n",
      "M30K sentence: two men in green shirts are standing in a yard .\n",
      "COCO sentence: Two men standing in a lawn of green grass.\n",
      "Similarity: 0.7437139276388878\n",
      "M30K sentence: a man in a blue shirt standing in a garden .\n",
      "COCO sentence: A well dressed man waits in a garden.\n",
      "Similarity: 0.7830648736658194\n",
      "M30K sentence: two friends enjoy time spent together .\n",
      "COCO sentence: There are two people that are sitting together \n",
      "Similarity: 0.9246958037877018\n",
      "M30K sentence: several men in hard hats are operating a giant pulley system .\n",
      "COCO sentence: A pulley is seen in a room with lots of stuff on shelves.\n",
      "Similarity: 0.6518496791637884\n",
      "M30K sentence: workers look down from up above on a piece of equipment .\n",
      "COCO sentence: a group of men trying to get an air blaoon  working\n",
      "Similarity: 0.7573087361242383\n",
      "M30K sentence: two men working on a machine wearing hard hats .\n",
      "COCO sentence: Some men working with a machine paving a new street.\n",
      "Similarity: 0.7052504094085088\n",
      "M30K sentence: four men on top of a tall structure .\n",
      "COCO sentence: Four people are standing outside a large \"Sone\" building. \n",
      "Similarity: 0.5762047665150553\n",
      "M30K sentence: three men on a large rig .\n",
      "COCO sentence: Young bots climbing on the back of a  big rig.\n",
      "Similarity: 0.8595853137930541\n"
     ]
    }
   ],
   "source": [
    "samples = np.arange(0, len(m30k_emb)-1)\n",
    "for i in samples[:10]:\n",
    "    # Sims between i-th m30k english sentence and all COCO\n",
    "    sims = m30k_emb[i].dot(coco_emb.T)\n",
    "    ranks = np.argsort(sims)[::-1]\n",
    "    print(\"M30K sentence: {}\".format(m30k_cap[i]))\n",
    "    print(\"COCO sentence: {}\".format(coco_cap[ranks[0]]))\n",
    "    print(\"Similarity: {}\".format(sims[ranks[0]]))\n",
    "\n",
    "    "
   ]
  },
  {
   "cell_type": "code",
   "execution_count": null,
   "metadata": {},
   "outputs": [],
   "source": []
  }
 ],
 "metadata": {
  "kernelspec": {
   "display_name": "Python 3",
   "language": "python",
   "name": "python3"
  },
  "language_info": {
   "codemirror_mode": {
    "name": "ipython",
    "version": 3
   },
   "file_extension": ".py",
   "mimetype": "text/x-python",
   "name": "python",
   "nbconvert_exporter": "python",
   "pygments_lexer": "ipython3",
   "version": "3.6.6"
  }
 },
 "nbformat": 4,
 "nbformat_minor": 2
}
