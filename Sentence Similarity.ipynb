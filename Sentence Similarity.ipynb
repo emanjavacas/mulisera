{
 "cells": [
  {
   "cell_type": "code",
   "execution_count": 10,
   "metadata": {},
   "outputs": [
    {
     "name": "stdout",
     "output_type": "stream",
     "text": [
      "Populating the interactive namespace from numpy and matplotlib\n"
     ]
    }
   ],
   "source": [
    "import numpy as np\n",
    "import pickle as pkl\n",
    "from vocab import Vocabulary\n",
    "import scipy\n",
    "from data2 import load_data\n",
    "%pylab inline\n"
   ]
  },
  {
   "cell_type": "code",
   "execution_count": 49,
   "metadata": {},
   "outputs": [
    {
     "name": "stdout",
     "output_type": "stream",
     "text": [
      "Loading m30ken, split train\n",
      "N images 145000, N captions 145000\n",
      "Loading coco, split train\n",
      "N images 566435, N captions 566435\n"
     ]
    }
   ],
   "source": [
    "m30k_img, m30k_caps = load_data('m30ken', 'train', False)\n",
    "coco_img, coco_caps = load_data('coco', 'train', False)"
   ]
  },
  {
   "cell_type": "code",
   "execution_count": 50,
   "metadata": {},
   "outputs": [],
   "source": [
    "del m30k_img\n",
    "del coco_img"
   ]
  },
  {
   "cell_type": "code",
   "execution_count": 68,
   "metadata": {},
   "outputs": [],
   "source": [
    "coco_emb = np.load('/roaming/u1257964/vsepp_distant/deenm30k+coco_409/409/coco_cap_emb.npy')\n",
    "coco_img_emb = np.load('/roaming/u1257964/vsepp_distant/deenm30k+coco_409/409/coco_img_emb.npy')"
   ]
  },
  {
   "cell_type": "code",
   "execution_count": 69,
   "metadata": {},
   "outputs": [],
   "source": [
    "m30k_emb = np.load('/roaming/u1257964/vsepp_distant/deenm30k+coco_409/409/m30ken_cap_emb.npy')\n",
    "m30k_img_emb = np.load('/roaming/u1257964/vsepp_distant/deenm30k+coco_409/409/m30ken_img_emb.npy')"
   ]
  },
  {
   "cell_type": "code",
   "execution_count": 74,
   "metadata": {},
   "outputs": [
    {
     "name": "stdout",
     "output_type": "stream",
     "text": [
      "M30K sentence: a construction worker is balancing on some scaffolding .\n",
      "COCO sentence: A city building under construction with scaffolding around it.\n",
      "Similarity: 0.7715297415657462\n",
      "M30K sentence: a worker in green rakes leaves on a sidewalk .\n",
      "COCO sentence: A man with a broom is sweeping up some leaves to throw them away.\n",
      "Similarity: 0.6796300093304443\n",
      "M30K sentence: their are earphones in the male subject ears and he also has an ipod .\n",
      "COCO sentence: A guy is posing for the camera with his IPOD. \n",
      "Similarity: 0.62911740928344\n",
      "M30K sentence: a boy in a striped shirt holds up a large black fish that he caught .\n",
      "COCO sentence: A man holding a large fish posing for a photo.\n",
      "Similarity: 0.6525387288994432\n",
      "M30K sentence: six casually dressed people lounge around a small coffee table .\n",
      "COCO sentence: A group of people sit at a table with coffee.\n",
      "Similarity: 0.7140915958343695\n",
      "M30K sentence: two women in large sombreros smile next to a no smoking sign .\n",
      "COCO sentence: Men in sombreros are behind a man with a phone.\n",
      "Similarity: 0.7072717544470447\n",
      "M30K sentence: a man in pink button shirt raises his arms in front of the crowd .\n",
      "COCO sentence: Group of people waving their arms in the air in front of a purple light.\n",
      "Similarity: 0.6000666133247383\n",
      "M30K sentence: small child plays with a swing on a playground with a backdrop of a dirt field with a number of construction workers .\n",
      "COCO sentence: A little boy holding a baseball bat to practice his swing. \n",
      "Similarity: 0.6789551404273559\n",
      "M30K sentence: two woman with black purses are looking at the back of a camera\n",
      "COCO sentence: A woman putting her foot up while holding a camera.\n",
      "Similarity: 0.6292437074200516\n",
      "M30K sentence: a dog with a purple leash is held by a woman wearing white shoes .\n",
      "COCO sentence: a dog is walking with a lady on a leash \n",
      "Similarity: 0.6605566336114083\n"
     ]
    }
   ],
   "source": [
    "samples = np.arange(0, len(m30k_emb)-1)\n",
    "np.random.shuffle(samples)\n",
    "for i in samples[:10]:\n",
    "    # Sims between i-th m30k english sentence and all COCO\n",
    "    sims = m30k_emb[i].dot(coco_emb.T)\n",
    "    ranks = np.argsort(sims)[::-1]\n",
    "    print(\"M30K sentence: {}\".format(m30k_cap[i]))\n",
    "    print(\"COCO sentence: {}\".format(coco_cap[ranks[0]]))\n",
    "    print(\"Similarity: {}\".format(sims[ranks[0]]))\n",
    "\n",
    "    "
   ]
  },
  {
   "cell_type": "code",
   "execution_count": 75,
   "metadata": {},
   "outputs": [
    {
     "name": "stdout",
     "output_type": "stream",
     "text": [
      "M30K sentence: a construction worker is balancing on some scaffolding .\n",
      "COCO sentence: A lift is being used to install a traffic light. \n",
      "Similarity: 0.5647028685544189\n",
      "M30K sentence: a worker in green rakes leaves on a sidewalk .\n",
      "COCO sentence: Two peoplare posing for a picture in skis on a hill.\n",
      "Similarity: 0.5174861217078612\n",
      "M30K sentence: their are earphones in the male subject ears and he also has an ipod .\n",
      "COCO sentence: A man is riding a skateboard and looking to the side.\n",
      "Similarity: 0.7107785481187172\n",
      "M30K sentence: a boy in a striped shirt holds up a large black fish that he caught .\n",
      "COCO sentence: Little kid opens mouth wide for a bite of the donut\n",
      "Similarity: 0.4901711963954676\n",
      "M30K sentence: six casually dressed people lounge around a small coffee table .\n",
      "COCO sentence: a couple of kids are playing video games\n",
      "Similarity: 0.5332277626100735\n",
      "M30K sentence: two women in large sombreros smile next to a no smoking sign .\n",
      "COCO sentence: A man wearing a sombrero talking on a cell phone.\n",
      "Similarity: 0.6622962552547065\n",
      "M30K sentence: a man in pink button shirt raises his arms in front of the crowd .\n",
      "COCO sentence: A tennis player hitting a ball, in mid-action. \n",
      "Similarity: 0.4902543065394596\n",
      "M30K sentence: small child plays with a swing on a playground with a backdrop of a dirt field with a number of construction workers .\n",
      "COCO sentence: A boy in green sweater holding a teddy bear in swing.\n",
      "Similarity: 0.5294130498235454\n",
      "M30K sentence: two woman with black purses are looking at the back of a camera\n",
      "COCO sentence: A woman wearing short shorts on top of a tennis court.\n",
      "Similarity: 0.5394396051808398\n",
      "M30K sentence: a dog with a purple leash is held by a woman wearing white shoes .\n",
      "COCO sentence: A man walking a dog, stopping for a woman to pet him.\n",
      "Similarity: 0.5775806462439342\n"
     ]
    }
   ],
   "source": [
    "for i in samples[:10]:\n",
    "    # Sims between i-th m30k english sentence and all COCO\n",
    "    sims = m30k_img_emb[i].dot(coco_img_emb.T)\n",
    "    ranks = np.argsort(sims)[::-1]\n",
    "    print(\"M30K sentence: {}\".format(m30k_cap[i]))\n",
    "    print(\"COCO sentence: {}\".format(coco_cap[ranks[0]]))\n",
    "    print(\"Similarity: {}\".format(sims[ranks[0]]))"
   ]
  },
  {
   "cell_type": "code",
   "execution_count": null,
   "metadata": {},
   "outputs": [],
   "source": []
  }
 ],
 "metadata": {
  "kernelspec": {
   "display_name": "Python 3",
   "language": "python",
   "name": "python3"
  },
  "language_info": {
   "codemirror_mode": {
    "name": "ipython",
    "version": 3
   },
   "file_extension": ".py",
   "mimetype": "text/x-python",
   "name": "python",
   "nbconvert_exporter": "python",
   "pygments_lexer": "ipython3",
   "version": "3.6.6"
  }
 },
 "nbformat": 4,
 "nbformat_minor": 2
}
