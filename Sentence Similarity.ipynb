{
 "cells": [
  {
   "cell_type": "code",
   "execution_count": 10,
   "metadata": {},
   "outputs": [
    {
     "name": "stdout",
     "output_type": "stream",
     "text": [
      "Populating the interactive namespace from numpy and matplotlib\n"
     ]
    }
   ],
   "source": [
    "import numpy as np\n",
    "import pickle as pkl\n",
    "from vocab import Vocabulary\n",
    "import scipy\n",
    "from data2 import load_data\n",
    "%pylab inline\n"
   ]
  },
  {
   "cell_type": "code",
   "execution_count": 49,
   "metadata": {},
   "outputs": [
    {
     "name": "stdout",
     "output_type": "stream",
     "text": [
      "Loading m30ken, split train\n",
      "N images 145000, N captions 145000\n",
      "Loading coco, split train\n",
      "N images 566435, N captions 566435\n"
     ]
    }
   ],
   "source": [
    "m30k_img, m30k_caps = load_data('m30ken', 'train', False)\n",
    "coco_img, coco_caps = load_data('coco', 'train', False)"
   ]
  },
  {
   "cell_type": "code",
   "execution_count": 50,
   "metadata": {},
   "outputs": [],
   "source": [
    "del m30k_img\n",
    "del coco_img"
   ]
  },
  {
   "cell_type": "code",
   "execution_count": 53,
   "metadata": {},
   "outputs": [],
   "source": [
    "coco_emb = np.load('/roaming/u1257964/vsepp_distant/deenm30k+coco_409/409/coco_cap_emb.npy')"
   ]
  },
  {
   "cell_type": "code",
   "execution_count": 54,
   "metadata": {},
   "outputs": [],
   "source": [
    "m30k_emb = np.load('/roaming/u1257964/vsepp_distant/deenm30k+coco_409/409/m30ken_cap_emb.npy')"
   ]
  },
  {
   "cell_type": "code",
   "execution_count": 67,
   "metadata": {},
   "outputs": [
    {
     "name": "stdout",
     "output_type": "stream",
     "text": [
      "M30K sentence: the skier is looking at the snowcapped mountains .\n",
      "COCO sentence: A skier standing atop a snowy slope with mountains in the background\n",
      "Similarity: 0.9015865731151728\n",
      "M30K sentence: a brown dog chases a frisbee\n",
      "COCO sentence: There is a brown dog running with a frisbee in its mouth\n",
      "Similarity: 0.9019094868599347\n",
      "M30K sentence: a young thin man holds a partially eaten sandwich with his left hand while typing on a computer with his right hand .\n",
      "COCO sentence: A man with a computer eats a sandwich.\n",
      "Similarity: 0.7813932276418799\n",
      "M30K sentence: woman kicking head of another kickboxer\n",
      "COCO sentence: A photo of two men playing boxing on the wii.\n",
      "Similarity: 0.5851696261396017\n",
      "M30K sentence: a tan dog runs in the fall leaves .\n",
      "COCO sentence: a dog walks through some dry leaves \n",
      "Similarity: 0.6983241006391494\n",
      "M30K sentence: a woman is blow drying a young boy &apos;s hair in a hair salon .\n",
      "COCO sentence: A woman blow drying a child's hair in a salon.\n",
      "Similarity: 0.9282990028739867\n",
      "M30K sentence: a man in a band is singing while wearing a very loud shirt .\n",
      "COCO sentence: A man standing on stage with a band singing. \n",
      "Similarity: 0.7518862548258015\n",
      "M30K sentence: two adolescence are making their way through woods .\n",
      "COCO sentence: a women that is walking through the woods\n",
      "Similarity: 0.7699418317405947\n",
      "M30K sentence: this person is jumping off of a hill while skiing .\n",
      "COCO sentence: A person jumping while skiing down a hill.\n",
      "Similarity: 0.8693226103721344\n",
      "M30K sentence: the boy is jumping in the woods .\n",
      "COCO sentence: A little boy posing for a photograph in the woods.\n",
      "Similarity: 0.7461088408458101\n"
     ]
    }
   ],
   "source": [
    "samples = np.arange(0, len(m30k_emb)-1)\n",
    "np.random.shuffle(samples)\n",
    "for i in samples[:10]:\n",
    "    # Sims between i-th m30k english sentence and all COCO\n",
    "    sims = m30k_emb[i].dot(coco_emb.T)\n",
    "    ranks = np.argsort(sims)[::-1]\n",
    "    print(\"M30K sentence: {}\".format(m30k_cap[i]))\n",
    "    print(\"COCO sentence: {}\".format(coco_cap[ranks[0]]))\n",
    "    print(\"Similarity: {}\".format(sims[ranks[0]]))\n",
    "\n",
    "    "
   ]
  },
  {
   "cell_type": "code",
   "execution_count": null,
   "metadata": {},
   "outputs": [],
   "source": []
  }
 ],
 "metadata": {
  "kernelspec": {
   "display_name": "Python 3",
   "language": "python",
   "name": "python3"
  },
  "language_info": {
   "codemirror_mode": {
    "name": "ipython",
    "version": 3
   },
   "file_extension": ".py",
   "mimetype": "text/x-python",
   "name": "python",
   "nbconvert_exporter": "python",
   "pygments_lexer": "ipython3",
   "version": "3.6.6"
  }
 },
 "nbformat": 4,
 "nbformat_minor": 2
}
